{
 "cells": [
  {
   "cell_type": "code",
   "execution_count": 19,
   "metadata": {},
   "outputs": [],
   "source": [
    "from __future__ import annotations\n",
    "\n",
    "\n",
    "class CustomList(list):\n",
    "    def __init__(self, *args):\n",
    "        super().__init__(*args)\n",
    "\n",
    "    def sum(self):\n",
    "        return sum(self)\n",
    "\n",
    "    def __add__(self, other):\n",
    "        if isinstance(other, int):\n",
    "            return CustomList([x + other for x in self])\n",
    "\n",
    "        if isinstance(other, list):\n",
    "            size = max(len(self), len(other))\n",
    "            result = [0] * size\n",
    "\n",
    "            for i in range(size):\n",
    "                if i < len(self):\n",
    "                    result[i] += self[i]\n",
    "                if i < len(other):\n",
    "                    result[i] += other[i]\n",
    "            return CustomList(result)\n",
    "\n",
    "        return NotImplemented\n",
    "\n",
    "    def __radd__(self, other):\n",
    "        return self.__add__(other)\n",
    "\n",
    "    def __sub__(self, other):\n",
    "        if isinstance(other, int):\n",
    "            return CustomList([x - other for x in self])\n",
    "\n",
    "        if isinstance(other, list):\n",
    "            size = max(len(self), len(other))\n",
    "            result = [0] * size\n",
    "\n",
    "            for i in range(size):\n",
    "                if i < len(self):\n",
    "                    result[i] += self[i]\n",
    "                if i < len(other):\n",
    "                    result[i] -= other[i]\n",
    "            return CustomList(result)\n",
    "\n",
    "        return NotImplemented\n",
    "\n",
    "    def __rsub__(self, other):\n",
    "        if isinstance(other, int):\n",
    "            return CustomList([other - x for x in self])\n",
    "\n",
    "        if isinstance(other, list):\n",
    "            size = max(len(self), len(other))\n",
    "            result = [0] * size\n",
    "\n",
    "            for i in range(size):\n",
    "                if i < len(self):\n",
    "                    result[i] -= self[i]\n",
    "                if i < len(other):\n",
    "                    result[i] += other[i]\n",
    "            return CustomList(result)\n",
    "\n",
    "        return NotImplemented\n",
    "\n",
    "    def __eq__(self, other: CustomList) -> bool:\n",
    "        if isinstance(other, CustomList):\n",
    "            return sum(self) == sum(other)\n",
    "        return False\n",
    "\n",
    "    def __ne__(self, other: CustomList) -> bool:\n",
    "        if isinstance(other, CustomList):\n",
    "            return not self.__eq__(other)\n",
    "\n",
    "    def __gt__(self, other: CustomList) -> bool:\n",
    "        if isinstance(other, CustomList):\n",
    "            return sum(self) > sum(other)\n",
    "\n",
    "    def __lt__(self, other: CustomList) -> bool:\n",
    "        if isinstance(other, CustomList):\n",
    "            return sum(self) < sum(other)\n",
    "\n",
    "    def __ge__(self, other: CustomList) -> bool:\n",
    "        if isinstance(other, CustomList):\n",
    "            return sum(self) >= sum(other)\n",
    "\n",
    "    def __le__(self, other: CustomList) -> bool:\n",
    "        if isinstance(other, CustomList):\n",
    "            return sum(self) <= sum(other)\n",
    "\n",
    "    def __str__(self):\n",
    "        return f\"CustomList elements: {list(self)} with sum: {sum(self)}\"\n",
    "\n",
    "\n",
    "# Пример использования\n",
    "my_list = CustomList([1, 2, 3, 4, 5])\n",
    "other_list = CustomList([1, 2, 3, 4, 5])\n",
    "other_list1 = CustomList([1, 2, 3, 4])"
   ]
  },
  {
   "cell_type": "code",
   "execution_count": 20,
   "metadata": {},
   "outputs": [
    {
     "data": {
      "text/plain": [
       "False"
      ]
     },
     "execution_count": 20,
     "metadata": {},
     "output_type": "execute_result"
    }
   ],
   "source": [
    "my_list == 20"
   ]
  },
  {
   "cell_type": "code",
   "execution_count": 22,
   "metadata": {},
   "outputs": [
    {
     "data": {
      "text/plain": [
       "[]"
      ]
     },
     "execution_count": 22,
     "metadata": {},
     "output_type": "execute_result"
    }
   ],
   "source": [
    "list1 = CustomList([])\n",
    "list2 = CustomList([])\n",
    "list1 + list2"
   ]
  },
  {
   "cell_type": "code",
   "execution_count": null,
   "metadata": {},
   "outputs": [],
   "source": [
    "CustomList([5, 1, 3, 7]) + CustomList([1, 2, 7])  # CustomList([6, 3, 10, 7])"
   ]
  },
  {
   "cell_type": "code",
   "execution_count": null,
   "metadata": {},
   "outputs": [],
   "source": [
    "CustomList([10]) + [2, 5]  # CustomList([12, 5])"
   ]
  },
  {
   "cell_type": "code",
   "execution_count": null,
   "metadata": {},
   "outputs": [],
   "source": [
    "[2, 5] + CustomList([10])  # CustomList([12, 5])"
   ]
  },
  {
   "cell_type": "code",
   "execution_count": null,
   "metadata": {},
   "outputs": [],
   "source": [
    "CustomList([2, 5]) + 10  # CustomList([12, 15])"
   ]
  },
  {
   "cell_type": "code",
   "execution_count": null,
   "metadata": {},
   "outputs": [],
   "source": [
    "10 + CustomList([2, 5])  # CustomList([12, 15])"
   ]
  },
  {
   "cell_type": "code",
   "execution_count": null,
   "metadata": {},
   "outputs": [],
   "source": [
    "CustomList([5, 1, 3, 7]) - CustomList([1, 2, 7])  # CustomList([4, -1, -4, 7])"
   ]
  },
  {
   "cell_type": "code",
   "execution_count": null,
   "metadata": {},
   "outputs": [],
   "source": [
    "CustomList([10]) - [2, 5]  # CustomList([8, -5])"
   ]
  },
  {
   "cell_type": "code",
   "execution_count": null,
   "metadata": {},
   "outputs": [],
   "source": [
    "[2, 5] - CustomList([10])  # CustomList([-8, 5])"
   ]
  },
  {
   "cell_type": "code",
   "execution_count": null,
   "metadata": {},
   "outputs": [],
   "source": [
    "CustomList([2, 5]) - 10  # CustomList([-8, -5])"
   ]
  },
  {
   "cell_type": "code",
   "execution_count": null,
   "metadata": {},
   "outputs": [],
   "source": [
    "10 - CustomList([2, 5])  # CustomList([8, 5])"
   ]
  },
  {
   "cell_type": "code",
   "execution_count": null,
   "metadata": {},
   "outputs": [],
   "source": []
  }
 ],
 "metadata": {
  "kernelspec": {
   "display_name": ".venv",
   "language": "python",
   "name": "python3"
  },
  "language_info": {
   "codemirror_mode": {
    "name": "ipython",
    "version": 3
   },
   "file_extension": ".py",
   "mimetype": "text/x-python",
   "name": "python",
   "nbconvert_exporter": "python",
   "pygments_lexer": "ipython3",
   "version": "3.11.7"
  }
 },
 "nbformat": 4,
 "nbformat_minor": 2
}
