{
 "cells": [
  {
   "cell_type": "code",
   "execution_count": 1,
   "metadata": {},
   "outputs": [],
   "source": [
    "from io import StringIO\n",
    "from typing import Generator, Optional, TextIO\n",
    "\n",
    "\n",
    "def filter_line(\n",
    "    line: str, words_to_search: list[str], stopwords: list[str]\n",
    ") -> Optional[str]:\n",
    "\n",
    "    has_search_word = False\n",
    "    for word in line.split():\n",
    "        if word in stopwords:\n",
    "            return None\n",
    "\n",
    "        if word in words_to_search:\n",
    "            has_search_word = True\n",
    "\n",
    "    if has_search_word:\n",
    "        return line.strip()\n",
    "\n",
    "    return None\n",
    "\n",
    "\n",
    "def file_reader(\n",
    "    file_obj: TextIO, words_to_search: list[str], stopwords: list[str]\n",
    ") -> Generator[str, None, None]:\n",
    "\n",
    "    for line in file_obj:\n",
    "        filtered_line = filter_line(line, words_to_search, stopwords)\n",
    "\n",
    "        if filtered_line:\n",
    "            yield filtered_line"
   ]
  },
  {
   "cell_type": "code",
   "execution_count": 2,
   "metadata": {},
   "outputs": [],
   "source": [
    "file_content = StringIO(\"Роза упала на лапу Азора\\nСократ любит спор\\n\")\n",
    "words_to_search = [\"Роза\"]\n",
    "stopwords = []\n",
    "result = list(file_reader(file_content, words_to_search, stopwords))"
   ]
  }
 ],
 "metadata": {
  "kernelspec": {
   "display_name": ".venv",
   "language": "python",
   "name": "python3"
  },
  "language_info": {
   "codemirror_mode": {
    "name": "ipython",
    "version": 3
   },
   "file_extension": ".py",
   "mimetype": "text/x-python",
   "name": "python",
   "nbconvert_exporter": "python",
   "pygments_lexer": "ipython3",
   "version": "3.11.7"
  }
 },
 "nbformat": 4,
 "nbformat_minor": 2
}
